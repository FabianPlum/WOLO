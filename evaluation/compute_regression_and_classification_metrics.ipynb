{
 "cells": [
  {
   "cell_type": "markdown",
   "metadata": {},
   "source": [
    "# WOLO - compute regression and classification metrics\n",
    "This script takes the _test_data_pred_results.csv_ files produced during network fitting and evaluation on test-data as an input and computes the desired output metrics and plots:\n",
    "\n",
    "- MAPE_true\n",
    "- MAPE_ideal\n",
    "- MAPE_class\n",
    "- classification accuracy\n",
    "- confusion matrices\n",
    "- class-wise scores\n",
    "- coefficient of variation"
   ]
  },
  {
   "cell_type": "code",
   "execution_count": 1,
   "metadata": {},
   "outputs": [],
   "source": [
    "import csv\n",
    "import numpy as np\n",
    "import pandas as pd\n",
    "import matplotlib.pyplot as plt\n",
    "from sklearn import metrics\n",
    "\n",
    "# call the following once to produce resized plots across the notebook\n",
    "plt.show()\n",
    "plt.rcParams['figure.figsize'] = [10, 8]\n",
    "plt.rcParams['figure.dpi'] = 100\n",
    "\n",
    "input_file = \"example_data/5_class/test_data_pred_results.csv\""
   ]
  },
  {
   "cell_type": "code",
   "execution_count": 2,
   "metadata": {},
   "outputs": [],
   "source": [
    "file = open(input_file, \"r\")\n",
    "data = list(csv.reader(file, delimiter=\",\"))\n",
    "file.close()"
   ]
  },
  {
   "cell_type": "code",
   "execution_count": 3,
   "metadata": {},
   "outputs": [],
   "source": [
    "def find_class(array, value):\n",
    "    array_np = np.asarray(array)\n",
    "    idx = (np.abs(array_np - value)).argmin()\n",
    "    nearest_class = array_np[idx]\n",
    "    pred_class = array.index(nearest_class)\n",
    "    return pred_class"
   ]
  },
  {
   "cell_type": "code",
   "execution_count": 4,
   "metadata": {},
   "outputs": [
    {
     "name": "stdout",
     "output_type": "stream",
     "text": [
      "Retrieving the following info from the input file: ['file', 'gt_class', 'pred_class', 'gt', 'pred']\n"
     ]
    }
   ],
   "source": [
    "print(\"Retrieving the following info from the input file:\", data[0][1:6])\n",
    "file_names = [row[1] for row in data[1:]]\n",
    "\n",
    "five_class = [0.0013, 0.0030, 0.0068, 0.0154, 0.0351]\n",
    "twenty_class = [0.0010, 0.0012, 0.0015, 0.0019, 0.0023, 0.0028,\n",
    "                0.0034, 0.0042, 0.0052, 0.0064, 0.0078, 0.0096,\n",
    "                0.0118, 0.0145, 0.0179, 0.0219, 0.0270, 0.0331,\n",
    "                0.0407, 0.0500]\n",
    "scaled_20 = [int(x * 10001) for x in twenty_class]\n",
    "\n",
    "if len(data[0]) > 11:\n",
    "    CLASS_LIST = twenty_class\n",
    "elif len(data[0]) == 11:\n",
    "    CLASS_LIST = five_class\n",
    "else: \n",
    "    CLASS_LIST = twenty_class # use classification approach of 20 class list for displaying regressor outputs\n",
    "\n",
    "if len(data[0]) < 6: # regressors have fewer lines as the output activations aren't relevant\n",
    "    true_classes = [scaled_20.index(int(x.split(\"/\")[1])) for x in [row[1] for row in data[1:]]]\n",
    "    pred_classes = [find_class(twenty_class, float(x)) for x in [row[3] for row in data[1:]]]\n",
    "    true_weight = [float(x) for x in [row[2] for row in data[1:]]]\n",
    "    pred_weight = [float(x) for x in [row[3] for row in data[1:]]]\n",
    "else:\n",
    "    true_classes = [int(x) for x in [row[2] for row in data[1:]]]\n",
    "    pred_classes = [int(x) for x in [row[3] for row in data[1:]]]\n",
    "    true_weight = [float(x) for x in [row[4] for row in data[1:]]]\n",
    "    pred_weight = [float(x) for x in [row[5] for row in data[1:]]]"
   ]
  },
  {
   "cell_type": "code",
   "execution_count": null,
   "metadata": {},
   "outputs": [],
   "source": [
    "### Compute overall "
   ]
  },
  {
   "cell_type": "code",
   "execution_count": 5,
   "metadata": {},
   "outputs": [],
   "source": [
    "def goAPE(y_true,y_pred,CLASS_LIST=None,gt_v_class=False):\n",
    "    \"\"\"\n",
    "    y_true : gt label vector of lenght n\n",
    "    y_pred : prediction label vector of length n\n",
    "    CLASS_LIST : lookup table of class centres (optional)\n",
    "    return : MAPE, STDAPE\n",
    "    \"\"\"\n",
    "    assert len(y_true) == len(y_pred), \"Mismatch between input vectors\"\n",
    "    if CLASS_LIST is None:\n",
    "        APE = [np.abs((x[0] - x[1])/x[0]) for x in zip(y_true,y_pred)]\n",
    "    elif gt_v_class:\n",
    "        APE = [np.abs((x[0] - CLASS_LIST[x[1]])/x[0]) for x in zip(y_true,y_pred)]\n",
    "    else:\n",
    "        APE = [np.abs((CLASS_LIST[x[0]] - CLASS_LIST[x[1]])/CLASS_LIST[x[0]]) for x in zip(y_true,y_pred)]\n",
    "    \n",
    "    MAPE = 100 * np.mean(APE)\n",
    "    STDAPE = 100 * np.std(APE)\n",
    "    \n",
    "    return MAPE, STDAPE"
   ]
  },
  {
   "cell_type": "code",
   "execution_count": 6,
   "metadata": {},
   "outputs": [
    {
     "name": "stdout",
     "output_type": "stream",
     "text": [
      "MAPE_true  :  107.31   STDAPE_true :  346.38\n",
      "MAPE_ideal :  22.75   STDAPE_ideal :  25.13\n",
      "MAPE_class :  90.7   STDAPE_class :  283.69\n",
      "Classification accuracy : 0.6193\n"
     ]
    }
   ],
   "source": [
    "MAPE_true, STDAPE_true = goAPE(y_true=true_weight,\n",
    "                               y_pred=pred_weight)\n",
    "print(\"MAPE_true  : \", round(MAPE_true,2), \"  STDAPE_true : \", round(STDAPE_true,2))\n",
    "\n",
    "if CLASS_LIST is not None:\n",
    "    MAPE_ideal, STDAPE_ideal = goAPE(y_true=true_weight,\n",
    "                                     y_pred=true_classes,\n",
    "                                     CLASS_LIST=CLASS_LIST,\n",
    "                                     gt_v_class=True)\n",
    "    print(\"MAPE_ideal : \", round(MAPE_ideal,2), \"  STDAPE_ideal : \", round(STDAPE_ideal,2))\n",
    "\n",
    "    MAPE_class, STDAPE_class = goAPE(y_true=true_classes,\n",
    "                                     y_pred=pred_classes,\n",
    "                                     CLASS_LIST=CLASS_LIST)\n",
    "    print(\"MAPE_class : \", round(MAPE_class,2), \"  STDAPE_class : \", round(STDAPE_class,2))\n",
    "    \n",
    "    accuracy = metrics.accuracy_score(y_true=true_classes,\n",
    "                                      y_pred=pred_classes)\n",
    "    \n",
    "    print(\"Classification accuracy :\", round(accuracy,4))"
   ]
  },
  {
   "cell_type": "markdown",
   "metadata": {},
   "source": [
    "### Produce confusion matrices"
   ]
  },
  {
   "cell_type": "code",
   "execution_count": 7,
   "metadata": {},
   "outputs": [
    {
     "data": {
      "text/html": [
       "<div>\n",
       "<style scoped>\n",
       "    .dataframe tbody tr th:only-of-type {\n",
       "        vertical-align: middle;\n",
       "    }\n",
       "\n",
       "    .dataframe tbody tr th {\n",
       "        vertical-align: top;\n",
       "    }\n",
       "\n",
       "    .dataframe thead th {\n",
       "        text-align: right;\n",
       "    }\n",
       "</style>\n",
       "<table border=\"1\" class=\"dataframe\">\n",
       "  <thead>\n",
       "    <tr style=\"text-align: right;\">\n",
       "      <th>Predicted class</th>\n",
       "      <th>0.0013</th>\n",
       "      <th>0.0030</th>\n",
       "      <th>0.0068</th>\n",
       "      <th>0.0154</th>\n",
       "      <th>0.0351</th>\n",
       "    </tr>\n",
       "    <tr>\n",
       "      <th>True class</th>\n",
       "      <th></th>\n",
       "      <th></th>\n",
       "      <th></th>\n",
       "      <th></th>\n",
       "      <th></th>\n",
       "    </tr>\n",
       "  </thead>\n",
       "  <tbody>\n",
       "    <tr>\n",
       "      <th>0.0013</th>\n",
       "      <td>0.622373</td>\n",
       "      <td>0.172064</td>\n",
       "      <td>0.098812</td>\n",
       "      <td>0.065963</td>\n",
       "      <td>0.040788</td>\n",
       "    </tr>\n",
       "    <tr>\n",
       "      <th>0.0030</th>\n",
       "      <td>0.134349</td>\n",
       "      <td>0.576029</td>\n",
       "      <td>0.164049</td>\n",
       "      <td>0.068533</td>\n",
       "      <td>0.057041</td>\n",
       "    </tr>\n",
       "    <tr>\n",
       "      <th>0.0068</th>\n",
       "      <td>0.087466</td>\n",
       "      <td>0.170932</td>\n",
       "      <td>0.579295</td>\n",
       "      <td>0.124049</td>\n",
       "      <td>0.038258</td>\n",
       "    </tr>\n",
       "    <tr>\n",
       "      <th>0.0154</th>\n",
       "      <td>0.060317</td>\n",
       "      <td>0.089958</td>\n",
       "      <td>0.107850</td>\n",
       "      <td>0.551767</td>\n",
       "      <td>0.190108</td>\n",
       "    </tr>\n",
       "    <tr>\n",
       "      <th>0.0351</th>\n",
       "      <td>0.027402</td>\n",
       "      <td>0.027719</td>\n",
       "      <td>0.046645</td>\n",
       "      <td>0.130843</td>\n",
       "      <td>0.767391</td>\n",
       "    </tr>\n",
       "  </tbody>\n",
       "</table>\n",
       "</div>"
      ],
      "text/plain": [
       "Predicted class    0.0013    0.0030    0.0068    0.0154    0.0351\n",
       "True class                                                       \n",
       "0.0013           0.622373  0.172064  0.098812  0.065963  0.040788\n",
       "0.0030           0.134349  0.576029  0.164049  0.068533  0.057041\n",
       "0.0068           0.087466  0.170932  0.579295  0.124049  0.038258\n",
       "0.0154           0.060317  0.089958  0.107850  0.551767  0.190108\n",
       "0.0351           0.027402  0.027719  0.046645  0.130843  0.767391"
      ]
     },
     "execution_count": 7,
     "metadata": {},
     "output_type": "execute_result"
    }
   ],
   "source": [
    "y_actu = pd.Series([CLASS_LIST[x] for x in true_classes], name='True class')\n",
    "y_pred = pd.Series([CLASS_LIST[x] for x in pred_classes], name='Predicted class')\n",
    "df_confusion = pd.crosstab(y_actu, y_pred)\n",
    "df_conf_norm = df_confusion.div(df_confusion.sum(axis=1), axis=\"index\")\n",
    "df_conf_norm"
   ]
  },
  {
   "cell_type": "code",
   "execution_count": 8,
   "metadata": {},
   "outputs": [
    {
     "data": {
      "image/png": "[encoded data removed]",
      "text/plain": [
       "<Figure size 1000x800 with 2 Axes>"
      ]
     },
     "metadata": {
      "needs_background": "light"
     },
     "output_type": "display_data"
    }
   ],
   "source": [
    "confusion_matrix = metrics.confusion_matrix(true_classes, pred_classes, normalize=\"true\")\n",
    "cm_display = metrics.ConfusionMatrixDisplay(confusion_matrix = confusion_matrix, \n",
    "                                            display_labels = CLASS_LIST)\n",
    "\n",
    "cm_display.plot(cmap=plt.cm.gray_r, \n",
    "                include_values=True, #set to true to display individual values\n",
    "                xticks_rotation=45)\n",
    "\n",
    "# update colour scale to enforce displaying normalised values between 0 and 1\n",
    "for im in plt.gca().get_images():\n",
    "    im.set_clim(vmin=0,vmax=1)  \n",
    "    \n",
    "plt.title(\"Confusion matrix\")\n",
    "plt.show()"
   ]
  },
  {
   "cell_type": "markdown",
   "metadata": {},
   "source": [
    "### Compute class wise scores \n",
    "and **prediction stability** in terms of the **average coefficient of variation** across continuous samples containing the same individual"
   ]
  },
  {
   "cell_type": "code",
   "execution_count": 9,
   "metadata": {},
   "outputs": [
    {
     "name": "stdout",
     "output_type": "stream",
     "text": [
      "\n",
      "CLASS :  0.0013\n",
      "MAPE_true  :  291.05   STDAPE_true :  721.45\n",
      "MAPE_ideal :  37.11   STDAPE_ideal :  51.78\n",
      "MAPE_class :  241.9   STDAPE_class :  561.64\n",
      "Classification accuracy : 0.6224\n",
      "\n",
      "CLASS :  0.003\n",
      "MAPE_true  :  124.5   STDAPE_true :  254.0\n",
      "MAPE_ideal :  19.86   STDAPE_ideal :  10.83\n",
      "MAPE_class :  117.75   STDAPE_class :  257.32\n",
      "Classification accuracy : 0.576\n",
      "\n",
      "CLASS :  0.0068\n",
      "MAPE_true  :  56.01   STDAPE_true :  76.86\n",
      "MAPE_ideal :  20.05   STDAPE_ideal :  10.23\n",
      "MAPE_class :  48.24   STDAPE_class :  85.96\n",
      "Classification accuracy : 0.5793\n",
      "\n",
      "CLASS :  0.0154\n",
      "MAPE_true  :  51.63   STDAPE_true :  46.02\n",
      "MAPE_ideal :  19.47   STDAPE_ideal :  10.37\n",
      "MAPE_class :  43.11   STDAPE_class :  51.75\n",
      "Classification accuracy : 0.5518\n",
      "\n",
      "CLASS :  0.0351\n",
      "MAPE_true  :  30.09   STDAPE_true :  25.04\n",
      "MAPE_ideal :  18.57   STDAPE_ideal :  10.19\n",
      "MAPE_class :  16.28   STDAPE_class :  30.6\n",
      "Classification accuracy : 0.7674\n"
     ]
    }
   ],
   "source": [
    "data_comb = zip(file_names,true_classes,pred_classes,true_weight,pred_weight)\n",
    "\n",
    "prev_class_temp = true_classes[0]\n",
    "ind_list = {}\n",
    "\n",
    "class_wise_scores = []\n",
    "\n",
    "class_wise_elements_gt_cl = []\n",
    "class_wise_elements_p_cl = []\n",
    "class_wise_elements_gt = []\n",
    "class_wise_elements_p = []\n",
    "\n",
    "for f,gt_cl,p_cl,gt,p in data_comb:    \n",
    "    file_components = f.split(\"/\")\n",
    "    class_temp = gt_cl\n",
    "    # cut away the frame number so individuals have consistent names\n",
    "    vid = \"_\".join(file_components[2].split(\"_\")[0:-2]) + \"_\" + file_components[2].split(\"_\")[-1]\n",
    "    \n",
    "    if vid not in ind_list:\n",
    "        ind_list[vid] = []\n",
    "    \n",
    "    \"\"\"\n",
    "    # use the following instead of line below, when extracting error stability instead of prediction stability\n",
    "    if CLASS_LIST is not None:\n",
    "        APE_temp = np.abs((CLASS_LIST[gt_cl] - CLASS_LIST[p_cl])/CLASS_LIST[gt_cl])\n",
    "    else:\n",
    "        APE_temp = np.abs((gt - p)/gt)\n",
    "        \n",
    "    ind_list[vid].append(APE_temp)\n",
    "    \"\"\"    \n",
    "    \n",
    "    ind_list[vid].append(p)\n",
    "    \n",
    "    \n",
    "    \n",
    "    if class_temp != prev_class_temp or f == file_names[-1]:\n",
    "        if f == file_names[-1]:\n",
    "            # in case this is the last element, add the final line before computing scores\n",
    "            class_wise_elements_gt_cl.append(gt_cl)\n",
    "            class_wise_elements_p_cl.append(p_cl)\n",
    "            class_wise_elements_gt.append(gt)\n",
    "            class_wise_elements_p.append(p)\n",
    "            \n",
    "        print(\"\\nCLASS : \", CLASS_LIST[prev_class_temp])\n",
    "\n",
    "        MAPE_true, STDAPE_true = goAPE(y_true=class_wise_elements_gt,\n",
    "                                       y_pred=class_wise_elements_p)\n",
    "        print(\"MAPE_true  : \", round(MAPE_true,2), \"  STDAPE_true : \", round(STDAPE_true,2))\n",
    "\n",
    "        MAPE_ideal, STDAPE_ideal = goAPE(y_true=class_wise_elements_gt,\n",
    "                                         y_pred=class_wise_elements_gt_cl,\n",
    "                                         CLASS_LIST=CLASS_LIST,\n",
    "                                         gt_v_class=True)\n",
    "        print(\"MAPE_ideal : \", round(MAPE_ideal,2), \"  STDAPE_ideal : \", round(STDAPE_ideal,2))\n",
    "\n",
    "        MAPE_class, STDAPE_class = goAPE(y_true=class_wise_elements_gt_cl,\n",
    "                                         y_pred=class_wise_elements_p_cl,\n",
    "                                         CLASS_LIST=CLASS_LIST)\n",
    "        print(\"MAPE_class : \", round(MAPE_class,2), \"  STDAPE_class : \", round(STDAPE_class,2))\n",
    "\n",
    "        accuracy = metrics.accuracy_score(y_true=class_wise_elements_gt_cl,\n",
    "                                          y_pred=class_wise_elements_p_cl)\n",
    "\n",
    "        print(\"Classification accuracy :\", round(accuracy,4))\n",
    "\n",
    "        class_wise_scores.append([prev_class_temp,\n",
    "                                  MAPE_true, STDAPE_true,\n",
    "                                  MAPE_ideal, STDAPE_ideal,\n",
    "                                  MAPE_class, STDAPE_class,\n",
    "                                  accuracy])\n",
    "        \n",
    "        prev_class_temp = class_temp\n",
    "        class_wise_elements_gt_cl = []\n",
    "        class_wise_elements_p_cl = []\n",
    "        class_wise_elements_gt = []\n",
    "        class_wise_elements_p = []\n",
    "    \n",
    "    class_wise_elements_gt_cl.append(gt_cl)\n",
    "    class_wise_elements_p_cl.append(p_cl)\n",
    "    class_wise_elements_gt.append(gt)\n",
    "    class_wise_elements_p.append(p)\n",
    "    \n",
    "class_wise_scores = np.array(class_wise_scores)"
   ]
  },
  {
   "cell_type": "code",
   "execution_count": 10,
   "metadata": {},
   "outputs": [
    {
     "name": "stdout",
     "output_type": "stream",
     "text": [
      "Average coefficient of variation across repeated predictions:  0.6713\n"
     ]
    }
   ],
   "source": [
    "coeff_var_ind = []\n",
    "\n",
    "for key, value in ind_list.items() :\n",
    "    coeff_var_ind.append(np.std(value)/np.mean(value))\n",
    "    \n",
    "print(\"Average coefficient of variation across repeated predictions: \", round(np.mean(coeff_var_ind),4))"
   ]
  },
  {
   "cell_type": "markdown",
   "metadata": {},
   "source": [
    "### class wise score visualisation\n",
    "Finally, plot the resulting class-wise MAPE (comparing prediction to ground truth, regardless of inference method) and class-wise accuracy"
   ]
  },
  {
   "cell_type": "code",
   "execution_count": 14,
   "metadata": {},
   "outputs": [
    {
     "data": {
      "image/png": "[encoded data removed]",
      "text/plain": [
       "<Figure size 600x400 with 1 Axes>"
      ]
     },
     "metadata": {
      "needs_background": "light"
     },
     "output_type": "display_data"
    }
   ],
   "source": [
    "plt.rcParams['figure.figsize'] = [6, 4]\n",
    "plt.rcParams['figure.dpi'] = 100\n",
    "fig, ax = plt.subplots()\n",
    "ax.bar(np.arange(len(CLASS_LIST)), class_wise_scores[:,1], \n",
    "       #yerr=class_wise_scores[:,2], \n",
    "       align='center', \n",
    "       alpha=0.5, \n",
    "       ecolor='black', capsize=10)\n",
    "\n",
    "ax.set_ylabel('MAPE')\n",
    "ax.set_xticks(np.arange(len(CLASS_LIST)))\n",
    "ax.set_xticklabels(CLASS_LIST, rotation=45)\n",
    "ax.set_title('class-wise MAPE')\n",
    "ax.yaxis.grid(True)\n",
    "#ax.set_yscale('log')\n",
    "ax.set_ylim(1,500)\n",
    "\n",
    "# Save the figure and show\n",
    "plt.tight_layout()\n",
    "#plt.savefig('bar_plot_with_error_bars.png')\n",
    "plt.show()"
   ]
  },
  {
   "cell_type": "code",
   "execution_count": 12,
   "metadata": {},
   "outputs": [
    {
     "data": {
      "image/png": "[encoded data removed]",
      "text/plain": [
       "<Figure size 600x400 with 1 Axes>"
      ]
     },
     "metadata": {
      "needs_background": "light"
     },
     "output_type": "display_data"
    }
   ],
   "source": [
    "plt.rcParams['figure.figsize'] = [6, 4]\n",
    "plt.rcParams['figure.dpi'] = 100\n",
    "fig, ax = plt.subplots()\n",
    "ax.bar(np.arange(len(CLASS_LIST)), class_wise_scores[:,-1], \n",
    "       #yerr=class_wise_scores[:,2], \n",
    "       align='center', \n",
    "       alpha=0.5, \n",
    "       ecolor='black', capsize=10)\n",
    "\n",
    "ax.set_ylabel('MAPE')\n",
    "ax.set_xticks(np.arange(len(CLASS_LIST)))\n",
    "ax.set_xticklabels(CLASS_LIST, rotation=45)\n",
    "ax.set_title('class-wise accuracy')\n",
    "ax.yaxis.grid(True)\n",
    "ax.set_ylim(0,1)\n",
    "\n",
    "# Save the figure and show\n",
    "plt.tight_layout()\n",
    "#plt.savefig('bar_plot_with_error_bars.png')\n",
    "plt.show()"
   ]
  },
  {
   "cell_type": "code",
   "execution_count": null,
   "metadata": {},
   "outputs": [],
   "source": []
  }
 ],
 "metadata": {
  "kernelspec": {
   "display_name": "Python 3",
   "language": "python",
   "name": "python3"
  },
  "language_info": {
   "codemirror_mode": {
    "name": "ipython",
    "version": 3
   },
   "file_extension": ".py",
   "mimetype": "text/x-python",
   "name": "python",
   "nbconvert_exporter": "python",
   "pygments_lexer": "ipython3",
   "version": "3.8.8"
  }
 },
 "nbformat": 4,
 "nbformat_minor": 4
}
