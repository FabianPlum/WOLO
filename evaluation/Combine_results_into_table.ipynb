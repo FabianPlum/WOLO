{
 "cells": [
  {
   "cell_type": "markdown",
   "metadata": {},
   "source": [
    "Basic parser script to read in \"**...---ALL_OUTPUTS.txt**\" files from results folder to combine into a single overview table."
   ]
  },
  {
   "cell_type": "code",
   "execution_count": null,
   "metadata": {},
   "outputs": [],
   "source": [
    "import os\n",
    "import pandas as pd\n",
    "\n",
    "input_path = \"C:/Users/Legos/OneDrive/WOLO/RESULTS\"\n",
    "ignore_aug = True\n",
    "\n",
    "output_table = [[\"MAPE class\",\"MAPE ideal\",\"MAPE true\",\"MAPE accuracy\",\"coef. of variation\"]]\n",
    "model_names = []\n",
    "\n",
    "for i, file in enumerate(os.listdir(input_path)):\n",
    "    if file.endswith(\"---ALL_OUTPUTS.txt\"):\n",
    "        input_file = os.path.join(input_path,file)\n",
    "        model_name = file.split(\"---ALL_OUTPUTS.txt\")[0]\n",
    "        if ignore_aug:\n",
    "            if model_name.split(\"_\")[-1] == \"aug\":\n",
    "                print(\"excluding augmented files\")\n",
    "                continue\n",
    "        \n",
    "        MAPE_class = 0\n",
    "        MAPE_ideal = 0\n",
    "        MAPE_true = 0\n",
    "        accuracy = 0\n",
    "        cov = 0\n",
    "        \n",
    "        with open(input_file) as file:\n",
    "            for line in file:\n",
    "                if line.split(\" \")[0] == \"MAPE_class\" and MAPE_class == 0:\n",
    "                    MAPE_class = float(line.split(\" \")[2])\n",
    "                if line.split(\" \")[0] == \"MAPE_ideal\" and MAPE_ideal == 0:\n",
    "                    MAPE_ideal = float(line.split(\" \")[2])\n",
    "                if line.split(\" \")[0] == \"MAPE_true\" and MAPE_true == 0:\n",
    "                    MAPE_true = float(line.split(\" \")[3])\n",
    "                if line.split(\" \")[0] == \"Classification\" and accuracy == 0:\n",
    "                    accuracy = float(line.split(\" \")[3][:-2])\n",
    "                if line.split(\" \")[0] == \"Average\" and cov == 0:\n",
    "                    cov = float(line.split(\" \")[7][:-2])\n",
    "        \n",
    "        output_table.append([MAPE_class,MAPE_ideal,MAPE_true,accuracy,cov])\n",
    "        model_names.append(model_name)\n",
    "        print(int(i/5), output_table[-1])"
   ]
  },
  {
   "cell_type": "code",
   "execution_count": null,
   "metadata": {},
   "outputs": [],
   "source": [
    "print(output_table[0])\n",
    "final_dataframe = pd.DataFrame(output_table[1:], index = model_names, columns=output_table[0])\n",
    "final_dataframe"
   ]
  },
  {
   "cell_type": "code",
   "execution_count": null,
   "metadata": {},
   "outputs": [],
   "source": [
    "custom_name = \"ALL_OUTPUTS_combined_results\"\n",
    "\n",
    "final_dataframe.to_csv(os.path.join(input_path,custom_name) + \".csv\")\n",
    "\n",
    "final_dataframe.to_hdf(\n",
    "    os.path.join(input_path,custom_name) + \".h5\",\n",
    "    \"df_with_missing\",\n",
    "    format=\"table\",\n",
    "    mode=\"w\")\n",
    "    "
   ]
  },
  {
   "cell_type": "code",
   "execution_count": null,
   "metadata": {},
   "outputs": [],
   "source": []
  }
 ],
 "metadata": {
  "kernelspec": {
   "display_name": "Python 3",
   "language": "python",
   "name": "python3"
  },
  "language_info": {
   "codemirror_mode": {
    "name": "ipython",
    "version": 3
   },
   "file_extension": ".py",
   "mimetype": "text/x-python",
   "name": "python",
   "nbconvert_exporter": "python",
   "pygments_lexer": "ipython3",
   "version": "3.6.10"
  }
 },
 "nbformat": 4,
 "nbformat_minor": 4
}
